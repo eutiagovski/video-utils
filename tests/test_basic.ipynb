{
 "cells": [
  {
   "cell_type": "code",
   "execution_count": 4,
   "metadata": {},
   "outputs": [
    {
     "name": "stdout",
     "output_type": "stream",
     "text": [
      "/home/tiago/Projetos/python-utils/core/video/Capture\n",
      "Requirement already satisfied: absl-py==1.3.0 in ./env/lib/python3.10/site-packages (from -r requirements.txt (line 1)) (1.3.0)\n",
      "Requirement already satisfied: astunparse==1.6.3 in ./env/lib/python3.10/site-packages (from -r requirements.txt (line 2)) (1.6.3)\n",
      "Requirement already satisfied: beautifulsoup4==4.11.1 in ./env/lib/python3.10/site-packages (from -r requirements.txt (line 3)) (4.11.1)\n",
      "Requirement already satisfied: cachetools==5.2.0 in ./env/lib/python3.10/site-packages (from -r requirements.txt (line 4)) (5.2.0)\n",
      "Requirement already satisfied: certifi==2022.9.24 in ./env/lib/python3.10/site-packages (from -r requirements.txt (line 5)) (2022.9.24)\n",
      "Requirement already satisfied: charset-normalizer==2.1.1 in ./env/lib/python3.10/site-packages (from -r requirements.txt (line 6)) (2.1.1)\n",
      "Requirement already satisfied: click==8.1.3 in ./env/lib/python3.10/site-packages (from -r requirements.txt (line 7)) (8.1.3)\n",
      "Requirement already satisfied: DateTime==4.7 in ./env/lib/python3.10/site-packages (from -r requirements.txt (line 8)) (4.7)\n",
      "Requirement already satisfied: deepface==0.0.75 in ./env/lib/python3.10/site-packages (from -r requirements.txt (line 9)) (0.0.75)\n",
      "Requirement already satisfied: filelock==3.8.0 in ./env/lib/python3.10/site-packages (from -r requirements.txt (line 10)) (3.8.0)\n",
      "Requirement already satisfied: fire==0.4.0 in ./env/lib/python3.10/site-packages (from -r requirements.txt (line 11)) (0.4.0)\n",
      "Requirement already satisfied: Flask==2.2.2 in ./env/lib/python3.10/site-packages (from -r requirements.txt (line 12)) (2.2.2)\n",
      "Requirement already satisfied: flatbuffers==22.9.24 in ./env/lib/python3.10/site-packages (from -r requirements.txt (line 13)) (22.9.24)\n",
      "Requirement already satisfied: gast==0.4.0 in ./env/lib/python3.10/site-packages (from -r requirements.txt (line 14)) (0.4.0)\n",
      "Requirement already satisfied: gdown==4.5.1 in ./env/lib/python3.10/site-packages (from -r requirements.txt (line 15)) (4.5.1)\n",
      "Requirement already satisfied: google-auth==2.12.0 in ./env/lib/python3.10/site-packages (from -r requirements.txt (line 16)) (2.12.0)\n",
      "Requirement already satisfied: google-auth-oauthlib==0.4.6 in ./env/lib/python3.10/site-packages (from -r requirements.txt (line 17)) (0.4.6)\n",
      "Requirement already satisfied: google-pasta==0.2.0 in ./env/lib/python3.10/site-packages (from -r requirements.txt (line 18)) (0.2.0)\n",
      "Requirement already satisfied: grpcio==1.49.1 in ./env/lib/python3.10/site-packages (from -r requirements.txt (line 19)) (1.49.1)\n",
      "Requirement already satisfied: h5py==3.7.0 in ./env/lib/python3.10/site-packages (from -r requirements.txt (line 20)) (3.7.0)\n",
      "Requirement already satisfied: idna==3.4 in ./env/lib/python3.10/site-packages (from -r requirements.txt (line 21)) (3.4)\n",
      "Requirement already satisfied: itsdangerous==2.1.2 in ./env/lib/python3.10/site-packages (from -r requirements.txt (line 22)) (2.1.2)\n",
      "Requirement already satisfied: Jinja2==3.1.2 in ./env/lib/python3.10/site-packages (from -r requirements.txt (line 23)) (3.1.2)\n",
      "Requirement already satisfied: keras==2.10.0 in ./env/lib/python3.10/site-packages (from -r requirements.txt (line 24)) (2.10.0)\n",
      "Requirement already satisfied: Keras-Preprocessing==1.1.2 in ./env/lib/python3.10/site-packages (from -r requirements.txt (line 25)) (1.1.2)\n",
      "Requirement already satisfied: libclang==14.0.6 in ./env/lib/python3.10/site-packages (from -r requirements.txt (line 26)) (14.0.6)\n",
      "Requirement already satisfied: Markdown==3.4.1 in ./env/lib/python3.10/site-packages (from -r requirements.txt (line 27)) (3.4.1)\n",
      "Requirement already satisfied: MarkupSafe==2.1.1 in ./env/lib/python3.10/site-packages (from -r requirements.txt (line 28)) (2.1.1)\n",
      "Requirement already satisfied: mtcnn==0.1.1 in ./env/lib/python3.10/site-packages (from -r requirements.txt (line 29)) (0.1.1)\n",
      "Requirement already satisfied: numpy==1.23.4 in ./env/lib/python3.10/site-packages (from -r requirements.txt (line 30)) (1.23.4)\n",
      "Requirement already satisfied: oauthlib==3.2.1 in ./env/lib/python3.10/site-packages (from -r requirements.txt (line 31)) (3.2.1)\n",
      "Requirement already satisfied: opencv-python==4.6.0.66 in ./env/lib/python3.10/site-packages (from -r requirements.txt (line 32)) (4.6.0.66)\n",
      "Requirement already satisfied: opt-einsum==3.3.0 in ./env/lib/python3.10/site-packages (from -r requirements.txt (line 33)) (3.3.0)\n",
      "Requirement already satisfied: packaging==21.3 in ./env/lib/python3.10/site-packages (from -r requirements.txt (line 34)) (21.3)\n",
      "Requirement already satisfied: pandas==1.5.0 in ./env/lib/python3.10/site-packages (from -r requirements.txt (line 35)) (1.5.0)\n",
      "Requirement already satisfied: Pillow==9.2.0 in ./env/lib/python3.10/site-packages (from -r requirements.txt (line 36)) (9.2.0)\n",
      "Requirement already satisfied: protobuf==3.19.6 in ./env/lib/python3.10/site-packages (from -r requirements.txt (line 37)) (3.19.6)\n",
      "Requirement already satisfied: pyasn1==0.4.8 in ./env/lib/python3.10/site-packages (from -r requirements.txt (line 38)) (0.4.8)\n",
      "Requirement already satisfied: pyasn1-modules==0.2.8 in ./env/lib/python3.10/site-packages (from -r requirements.txt (line 39)) (0.2.8)\n",
      "Requirement already satisfied: pyparsing==3.0.9 in ./env/lib/python3.10/site-packages (from -r requirements.txt (line 40)) (3.0.9)\n",
      "Requirement already satisfied: PySocks==1.7.1 in ./env/lib/python3.10/site-packages (from -r requirements.txt (line 41)) (1.7.1)\n",
      "Requirement already satisfied: python-dateutil==2.8.2 in ./env/lib/python3.10/site-packages (from -r requirements.txt (line 42)) (2.8.2)\n",
      "Requirement already satisfied: pytz==2022.4 in ./env/lib/python3.10/site-packages (from -r requirements.txt (line 43)) (2022.4)\n",
      "Requirement already satisfied: requests==2.28.1 in ./env/lib/python3.10/site-packages (from -r requirements.txt (line 44)) (2.28.1)\n",
      "Requirement already satisfied: requests-oauthlib==1.3.1 in ./env/lib/python3.10/site-packages (from -r requirements.txt (line 45)) (1.3.1)\n",
      "Requirement already satisfied: retina-face==0.0.12 in ./env/lib/python3.10/site-packages (from -r requirements.txt (line 46)) (0.0.12)\n",
      "Requirement already satisfied: rsa==4.9 in ./env/lib/python3.10/site-packages (from -r requirements.txt (line 47)) (4.9)\n",
      "Requirement already satisfied: six==1.16.0 in ./env/lib/python3.10/site-packages (from -r requirements.txt (line 48)) (1.16.0)\n",
      "Requirement already satisfied: soupsieve==2.3.2.post1 in ./env/lib/python3.10/site-packages (from -r requirements.txt (line 49)) (2.3.2.post1)\n",
      "Requirement already satisfied: tensorboard==2.10.1 in ./env/lib/python3.10/site-packages (from -r requirements.txt (line 50)) (2.10.1)\n",
      "Requirement already satisfied: tensorboard-data-server==0.6.1 in ./env/lib/python3.10/site-packages (from -r requirements.txt (line 51)) (0.6.1)\n",
      "Requirement already satisfied: tensorboard-plugin-wit==1.8.1 in ./env/lib/python3.10/site-packages (from -r requirements.txt (line 52)) (1.8.1)\n",
      "Requirement already satisfied: tensorflow==2.10.0 in ./env/lib/python3.10/site-packages (from -r requirements.txt (line 53)) (2.10.0)\n",
      "Requirement already satisfied: tensorflow-estimator==2.10.0 in ./env/lib/python3.10/site-packages (from -r requirements.txt (line 54)) (2.10.0)\n",
      "Requirement already satisfied: tensorflow-io-gcs-filesystem==0.27.0 in ./env/lib/python3.10/site-packages (from -r requirements.txt (line 55)) (0.27.0)\n",
      "Requirement already satisfied: termcolor==2.0.1 in ./env/lib/python3.10/site-packages (from -r requirements.txt (line 56)) (2.0.1)\n",
      "Requirement already satisfied: tqdm==4.64.1 in ./env/lib/python3.10/site-packages (from -r requirements.txt (line 57)) (4.64.1)\n",
      "Requirement already satisfied: typing_extensions==4.4.0 in ./env/lib/python3.10/site-packages (from -r requirements.txt (line 58)) (4.4.0)\n",
      "Requirement already satisfied: urllib3==1.26.12 in ./env/lib/python3.10/site-packages (from -r requirements.txt (line 59)) (1.26.12)\n",
      "Requirement already satisfied: Werkzeug==2.2.2 in ./env/lib/python3.10/site-packages (from -r requirements.txt (line 60)) (2.2.2)\n",
      "Requirement already satisfied: wrapt==1.14.1 in ./env/lib/python3.10/site-packages (from -r requirements.txt (line 61)) (1.14.1)\n",
      "Requirement already satisfied: zope.interface==5.5.0 in ./env/lib/python3.10/site-packages (from -r requirements.txt (line 62)) (5.5.0)\n",
      "Requirement already satisfied: asttokens==2.0.8 in ./env/lib/python3.10/site-packages (from -r requirements.txt (line 64)) (2.0.8)\n",
      "Requirement already satisfied: backcall==0.2.0 in ./env/lib/python3.10/site-packages (from -r requirements.txt (line 66)) (0.2.0)\n",
      "Requirement already satisfied: debugpy==1.6.3 in ./env/lib/python3.10/site-packages (from -r requirements.txt (line 73)) (1.6.3)\n",
      "Requirement already satisfied: decorator==5.1.1 in ./env/lib/python3.10/site-packages (from -r requirements.txt (line 74)) (5.1.1)\n",
      "Requirement already satisfied: emoji==2.1.0 in ./env/lib/python3.10/site-packages (from -r requirements.txt (line 76)) (2.1.0)\n",
      "Requirement already satisfied: entrypoints==0.4 in ./env/lib/python3.10/site-packages (from -r requirements.txt (line 77)) (0.4)\n",
      "Requirement already satisfied: executing==1.1.1 in ./env/lib/python3.10/site-packages (from -r requirements.txt (line 78)) (1.1.1)\n",
      "Requirement already satisfied: imutils==0.5.4 in ./env/lib/python3.10/site-packages (from -r requirements.txt (line 91)) (0.5.4)\n",
      "Requirement already satisfied: ipykernel==6.16.0 in ./env/lib/python3.10/site-packages (from -r requirements.txt (line 92)) (6.16.0)\n",
      "Requirement already satisfied: ipython==8.5.0 in ./env/lib/python3.10/site-packages (from -r requirements.txt (line 93)) (8.5.0)\n",
      "Requirement already satisfied: jedi==0.18.1 in ./env/lib/python3.10/site-packages (from -r requirements.txt (line 95)) (0.18.1)\n",
      "Requirement already satisfied: jupyter-core==4.11.1 in ./env/lib/python3.10/site-packages (from -r requirements.txt (line 97)) (4.11.1)\n",
      "Requirement already satisfied: jupyter_client==7.4.2 in ./env/lib/python3.10/site-packages (from -r requirements.txt (line 98)) (7.4.2)\n",
      "Requirement already satisfied: matplotlib-inline==0.1.6 in ./env/lib/python3.10/site-packages (from -r requirements.txt (line 104)) (0.1.6)\n",
      "Requirement already satisfied: nest-asyncio==1.5.6 in ./env/lib/python3.10/site-packages (from -r requirements.txt (line 106)) (1.5.6)\n",
      "Requirement already satisfied: parso==0.8.3 in ./env/lib/python3.10/site-packages (from -r requirements.txt (line 113)) (0.8.3)\n",
      "Requirement already satisfied: pexpect==4.8.0 in ./env/lib/python3.10/site-packages (from -r requirements.txt (line 114)) (4.8.0)\n",
      "Requirement already satisfied: pickleshare==0.7.5 in ./env/lib/python3.10/site-packages (from -r requirements.txt (line 115)) (0.7.5)\n",
      "Requirement already satisfied: prompt-toolkit==3.0.31 in ./env/lib/python3.10/site-packages (from -r requirements.txt (line 117)) (3.0.31)\n",
      "Requirement already satisfied: psutil==5.9.2 in ./env/lib/python3.10/site-packages (from -r requirements.txt (line 119)) (5.9.2)\n",
      "Requirement already satisfied: ptyprocess==0.7.0 in ./env/lib/python3.10/site-packages (from -r requirements.txt (line 120)) (0.7.0)\n",
      "Requirement already satisfied: pure-eval==0.2.2 in ./env/lib/python3.10/site-packages (from -r requirements.txt (line 121)) (0.2.2)\n",
      "Requirement already satisfied: Pygments==2.13.0 in ./env/lib/python3.10/site-packages (from -r requirements.txt (line 124)) (2.13.0)\n",
      "Requirement already satisfied: pyzmq==24.0.1 in ./env/lib/python3.10/site-packages (from -r requirements.txt (line 129)) (24.0.1)\n",
      "Requirement already satisfied: stack-data==0.5.1 in ./env/lib/python3.10/site-packages (from -r requirements.txt (line 136)) (0.5.1)\n",
      "Requirement already satisfied: tornado==6.2 in ./env/lib/python3.10/site-packages (from -r requirements.txt (line 144)) (6.2)\n",
      "Requirement already satisfied: traitlets==5.4.0 in ./env/lib/python3.10/site-packages (from -r requirements.txt (line 146)) (5.4.0)\n",
      "Requirement already satisfied: wcwidth==0.2.5 in ./env/lib/python3.10/site-packages (from -r requirements.txt (line 149)) (0.2.5)\n",
      "Requirement already satisfied: wheel<1.0,>=0.23.0 in ./env/lib/python3.10/site-packages (from astunparse==1.6.3->-r requirements.txt (line 2)) (0.37.1)\n",
      "Requirement already satisfied: setuptools>=41.0.0 in ./env/lib/python3.10/site-packages (from tensorboard==2.10.1->-r requirements.txt (line 50)) (59.6.0)\n"
     ]
    }
   ],
   "source": [
    "# Primeiro crie um ambiente venv \n",
    "!python3 -m venv env\n",
    "\n",
    "# depois ative o ambiente virtual criado\n",
    "!source env/bin/activate\n",
    "\n",
    "# instale as dependencias\n",
    "!cd ..\n",
    "!pip install -r 'requirements.txt'"
   ]
  },
  {
   "cell_type": "code",
   "execution_count": 5,
   "metadata": {},
   "outputs": [],
   "source": [
    "from context import core\n",
    "\n",
    "# instancie a classe\n",
    "capture = core.Capture() "
   ]
  },
  {
   "cell_type": "code",
   "execution_count": 6,
   "metadata": {},
   "outputs": [
    {
     "name": "stdout",
     "output_type": "stream",
     "text": [
      "[INFO] Iniciando video a 25.0fps\n",
      "[INFO] Iniciando transmissão  com http://192.168.0.67 ...\n",
      "[INFO] Detecção de Objetos: True\n",
      "[INFO] Detecção de Objetos: False\n"
     ]
    }
   ],
   "source": [
    "# capture o video da sua camera\n",
    "# neste exemplo estou utilizando uma camera ip, mas pode ser a webcam do computador. \n",
    "# basta passar o número do dispositivo\n",
    "\n",
    "capture.stream('http://192.168.0.67')"
   ]
  },
  {
   "cell_type": "code",
   "execution_count": 2,
   "metadata": {},
   "outputs": [],
   "source": [
    "# se algum problema acontecer com o video, ou com a tela, podemos chamar a função force_exit\n",
    "\n",
    "capture.force_exit()"
   ]
  }
 ],
 "metadata": {
  "kernelspec": {
   "display_name": "Python 3.10.6 ('env': venv)",
   "language": "python",
   "name": "python3"
  },
  "language_info": {
   "codemirror_mode": {
    "name": "ipython",
    "version": 3
   },
   "file_extension": ".py",
   "mimetype": "text/x-python",
   "name": "python",
   "nbconvert_exporter": "python",
   "pygments_lexer": "ipython3",
   "version": "3.10.6"
  },
  "orig_nbformat": 4,
  "vscode": {
   "interpreter": {
    "hash": "ee51b38942474fad8c50777dd69abf444bbcafab091ab5c7aa63bb0cbf1deeee"
   }
  }
 },
 "nbformat": 4,
 "nbformat_minor": 2
}
